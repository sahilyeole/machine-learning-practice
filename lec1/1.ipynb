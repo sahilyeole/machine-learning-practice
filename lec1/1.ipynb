{
 "cells": [
  {
   "cell_type": "code",
   "execution_count": 60,
   "metadata": {},
   "outputs": [],
   "source": [
    "import math\n",
    "import numpy as np\n",
    "import matplotlib.pyplot as plt\n",
    "%matplotlib inline"
   ]
  },
  {
   "cell_type": "code",
   "execution_count": 1,
   "metadata": {},
   "outputs": [],
   "source": [
    "def f(x):\n",
    "  return 3*x**2 - 4*x +5\n",
    "  "
   ]
  },
  {
   "cell_type": "code",
   "execution_count": 41,
   "metadata": {},
   "outputs": [
    {
     "data": {
      "text/plain": [
       "20.0"
      ]
     },
     "execution_count": 41,
     "metadata": {},
     "output_type": "execute_result"
    }
   ],
   "source": [
    "f(3.0)"
   ]
  },
  {
   "cell_type": "code",
   "execution_count": 42,
   "metadata": {},
   "outputs": [
    {
     "data": {
      "text/plain": [
       "[<matplotlib.lines.Line2D at 0x10f75df00>]"
      ]
     },
     "execution_count": 42,
     "metadata": {},
     "output_type": "execute_result"
    },
    {
     "data": {
      "image/png": "[encoded data removed]",
      "text/plain": [
       "<Figure size 640x480 with 1 Axes>"
      ]
     },
     "metadata": {},
     "output_type": "display_data"
    }
   ],
   "source": [
    "xs = np.arange(-5,5,0.25)\n",
    "ys = f(xs)\n",
    "plt.plot(xs,ys)"
   ]
  },
  {
   "cell_type": "code",
   "execution_count": 43,
   "metadata": {},
   "outputs": [
    {
     "data": {
      "text/plain": [
       "14.00000009255109"
      ]
     },
     "execution_count": 43,
     "metadata": {},
     "output_type": "execute_result"
    }
   ],
   "source": [
    "h=0.00000001\n",
    "# x = 2/3 give slope 0\n",
    "x = 3.0\n",
    "(f(x+h) - f(x))/h # 1st derivative, f'(x) at x=3.0, slope of tangent line"
   ]
  },
  {
   "cell_type": "code",
   "execution_count": 44,
   "metadata": {},
   "outputs": [
    {
     "name": "stdout",
     "output_type": "stream",
     "text": [
      "d1 4.0\n",
      "d2 4.0001\n",
      "slope 0.9999999999976694\n"
     ]
    }
   ],
   "source": [
    "h = 0.0001\n",
    "\n",
    "#inputs\n",
    "a = 2.0\n",
    "b = -3.0\n",
    "c = 10.0\n",
    "\n",
    "#expressions\n",
    "d1 = a*b + c\n",
    "# a += h to find d d2 / da \n",
    "# b += h to find d d2 / db\n",
    "c += h # to find d d2 / dc\n",
    "d2 = a*b + c\n",
    "\n",
    "print('d1', d1) #initial d1 value\n",
    "print('d2', d2) # d2 is d1 after bumping a/b/c by h\n",
    "print('slope', (d2-d1)/h) # slope, first derivative"
   ]
  },
  {
   "cell_type": "code",
   "execution_count": 123,
   "metadata": {},
   "outputs": [
    {
     "data": {
      "text/plain": [
       "value(data=-8.0)"
      ]
     },
     "execution_count": 123,
     "metadata": {},
     "output_type": "execute_result"
    }
   ],
   "source": [
    "class Value:\n",
    "  def __init__(self, data, _children=(), _op='',label=''):\n",
    "    self.data = data\n",
    "    self._prev = set(_children)\n",
    "    self._op = _op\n",
    "    self.label = label\n",
    "    self._backward = lambda : None\n",
    "    self.grad = 0.0\n",
    "  def __repr__(self):\n",
    "    return f'value(data={self.data})'\n",
    "  def __add__(self, other):\n",
    "    out = Value(self.data + other.data, (self, other), '+')\n",
    "    def _backward():\n",
    "      self.grad = 1.0 * out.grad\n",
    "      other.grad = 1.0 * out.grad\n",
    "    out._backward = _backward # attach backward function to out object, so we can call it later\n",
    "    # can also use any variable to store this function and call it later\n",
    "    # like out._back = _backward, and then call it out._back()\n",
    "    return out\n",
    "  def __mul__(self, other):\n",
    "    out = Value(self.data * other.data, (self, other), '*')\n",
    "    def _backward():\n",
    "      self.grad = other.data * out.grad\n",
    "      other.grad = self.data * out.grad\n",
    "    out._backward = _backward\n",
    "    return out\n",
    "  def tanh(self):\n",
    "    x = self.data\n",
    "    t = (math.exp(2*x) - 1) / (math.exp(2*x) + 1)\n",
    "    out = Value(t, (self,), 'tanh')\n",
    "    def _backward():\n",
    "      self.grad = (1 - t**2) * out.grad\n",
    "    out._backward = _backward\n",
    "    return out\n",
    "\n",
    "  def backward(self):\n",
    "    topo = []\n",
    "    visited = set()\n",
    "    def build_topo(v):\n",
    "      if v in visited:\n",
    "        return\n",
    "      visited.add(v)\n",
    "      for child in v._prev:\n",
    "        build_topo(child)\n",
    "      topo.append(v)\n",
    "\n",
    "    build_topo(self)\n",
    "    self.grad = 1.0\n",
    "    \n",
    "    for node in reversed(topo):\n",
    "      node._backward()\n",
    "\n",
    "a = Value(2.0, label='a')\n",
    "b = Value(-3.0, label='b')\n",
    "c = Value(10.0, label='c')\n",
    "e = a*b\n",
    "e.label = 'e'\n",
    "d = e  + c\n",
    "d.label = 'd'\n",
    "f = Value(-2.0, label='f')\n",
    "L = d * f\n",
    "L.label = 'L'\n",
    "L"
   ]
  },
  {
   "cell_type": "code",
   "execution_count": 46,
   "metadata": {},
   "outputs": [
    {
     "data": {
      "text/plain": [
       "{value(data=-6.0), value(data=10.0)}"
      ]
     },
     "execution_count": 46,
     "metadata": {},
     "output_type": "execute_result"
    }
   ],
   "source": [
    "d._prev\n",
    "# _children is a set of all the values that were used to compute d; children inputs"
   ]
  },
  {
   "cell_type": "code",
   "execution_count": 47,
   "metadata": {},
   "outputs": [],
   "source": [
    "from graphviz import Digraph\n",
    "\n",
    "def trace(root):\n",
    "  # builds a set of all nodes and edges in a graph\n",
    "  nodes, edges = set(), set()\n",
    "  def build(v):\n",
    "    if v not in nodes:\n",
    "      nodes.add(v)\n",
    "      for child in v._prev:\n",
    "        edges.add((child, v))\n",
    "        build(child)\n",
    "  build(root)\n",
    "  return nodes, edges\n",
    "\n",
    "def draw_dot(root):\n",
    "  dot = Digraph(format='svg', graph_attr={'rankdir': 'LR'}) # LR = left to right\n",
    "  \n",
    "  nodes, edges = trace(root)\n",
    "  for n in nodes:\n",
    "    uid = str(id(n))\n",
    "    # for any value in the graph, create a rectangular ('record') node for it\n",
    "    dot.node(name = uid, label = \"{ %s | data %.4f | grad %.4f }\" % (n.label, n.data, n.grad), shape='record')\n",
    "    if n._op:\n",
    "      # if this value is a result of some operation, create an op node for it\n",
    "      dot.node(name = uid + n._op, label = n._op)\n",
    "      # and connect this node to it\n",
    "      dot.edge(uid + n._op, uid)\n",
    "\n",
    "  for n1, n2 in edges:\n",
    "    # connect n1 to the op node of n2\n",
    "    dot.edge(str(id(n1)), str(id(n2)) + n2._op)\n",
    "\n",
    "  return dot"
   ]
  },
  {
   "cell_type": "code",
   "execution_count": 55,
   "metadata": {},
   "outputs": [
    {
     "data": {
      "image/svg+xml": "<?xml version=\"1.0\" encoding=\"UTF-8\" standalone=\"no\"?>\n<!DOCTYPE svg PUBLIC \"-//W3C//DTD SVG 1.1//EN\"\n \"http://www.w3.org/Graphics/SVG/1.1/DTD/svg11.dtd\">\n<!-- Generated by graphviz version 7.1.0 (20230121.1956)\n -->\n<!-- Pages: 1 -->\n<svg width=\"1157pt\" height=\"128pt\"\n viewBox=\"0.00 0.00 1157.00 128.00\" xmlns=\"http://www.w3.org/2000/svg\" xmlns:xlink=\"http://www.w3.org/1999/xlink\">\n<g id=\"graph0\" class=\"graph\" transform=\"scale(1 1) rotate(0) translate(4 124)\">\n<polygon fill=\"white\" stroke=\"none\" points=\"-4,4 -4,-124 1153,-124 1153,4 -4,4\"/>\n<!-- 4557187600 -->\n<g id=\"node1\" class=\"node\">\n<title>4557187600</title>\n<polygon fill=\"none\" stroke=\"black\" points=\"320,-83.5 320,-119.5 516,-119.5 516,-83.5 320,-83.5\"/>\n<text text-anchor=\"middle\" x=\"331.5\" y=\"-97.8\" font-family=\"Times,serif\" font-size=\"14.00\">c</text>\n<polyline fill=\"none\" stroke=\"black\" points=\"343,-83.5 343,-119.5\"/>\n<text text-anchor=\"middle\" x=\"386.5\" y=\"-97.8\" font-family=\"Times,serif\" font-size=\"14.00\">data 10.0000</text>\n<polyline fill=\"none\" stroke=\"black\" points=\"430,-83.5 430,-119.5\"/>\n<text text-anchor=\"middle\" x=\"473\" y=\"-97.8\" font-family=\"Times,serif\" font-size=\"14.00\">grad &#45;2.0000</text>\n</g>\n<!-- 4557183136+ -->\n<g id=\"node3\" class=\"node\">\n<title>4557183136+</title>\n<ellipse fill=\"none\" stroke=\"black\" cx=\"579\" cy=\"-73.5\" rx=\"27\" ry=\"18\"/>\n<text text-anchor=\"middle\" x=\"579\" y=\"-69.8\" font-family=\"Times,serif\" font-size=\"14.00\">+</text>\n</g>\n<!-- 4557187600&#45;&gt;4557183136+ -->\n<g id=\"edge4\" class=\"edge\">\n<title>4557187600&#45;&gt;4557183136+</title>\n<path fill=\"none\" stroke=\"black\" d=\"M515.62,-84.49C524.6,-82.9 533.27,-81.38 541.15,-79.99\"/>\n<polygon fill=\"black\" stroke=\"black\" points=\"541.71,-83.44 550.95,-78.26 540.5,-76.55 541.71,-83.44\"/>\n</g>\n<!-- 4557183136 -->\n<g id=\"node2\" class=\"node\">\n<title>4557183136</title>\n<polygon fill=\"none\" stroke=\"black\" points=\"642,-55.5 642,-91.5 831,-91.5 831,-55.5 642,-55.5\"/>\n<text text-anchor=\"middle\" x=\"653.5\" y=\"-69.8\" font-family=\"Times,serif\" font-size=\"14.00\">d</text>\n<polyline fill=\"none\" stroke=\"black\" points=\"665,-55.5 665,-91.5\"/>\n<text text-anchor=\"middle\" x=\"705\" y=\"-69.8\" font-family=\"Times,serif\" font-size=\"14.00\">data 4.0000</text>\n<polyline fill=\"none\" stroke=\"black\" points=\"745,-55.5 745,-91.5\"/>\n<text text-anchor=\"middle\" x=\"788\" y=\"-69.8\" font-family=\"Times,serif\" font-size=\"14.00\">grad &#45;2.0000</text>\n</g>\n<!-- 4557186736* -->\n<g id=\"node5\" class=\"node\">\n<title>4557186736*</title>\n<ellipse fill=\"none\" stroke=\"black\" cx=\"894\" cy=\"-45.5\" rx=\"27\" ry=\"18\"/>\n<text text-anchor=\"middle\" x=\"894\" y=\"-41.8\" font-family=\"Times,serif\" font-size=\"14.00\">*</text>\n</g>\n<!-- 4557183136&#45;&gt;4557186736* -->\n<g id=\"edge9\" class=\"edge\">\n<title>4557183136&#45;&gt;4557186736*</title>\n<path fill=\"none\" stroke=\"black\" d=\"M830.65,-56.73C839.58,-55.12 848.23,-53.56 856.11,-52.14\"/>\n<polygon fill=\"black\" stroke=\"black\" points=\"856.68,-55.6 865.9,-50.38 855.44,-48.71 856.68,-55.6\"/>\n</g>\n<!-- 4557183136+&#45;&gt;4557183136 -->\n<g id=\"edge1\" class=\"edge\">\n<title>4557183136+&#45;&gt;4557183136</title>\n<path fill=\"none\" stroke=\"black\" d=\"M606.38,-73.5C613.63,-73.5 621.96,-73.5 630.82,-73.5\"/>\n<polygon fill=\"black\" stroke=\"black\" points=\"630.77,-77 640.77,-73.5 630.77,-70 630.77,-77\"/>\n</g>\n<!-- 4557186736 -->\n<g id=\"node4\" class=\"node\">\n<title>4557186736</title>\n<polygon fill=\"none\" stroke=\"black\" points=\"957,-27.5 957,-63.5 1149,-63.5 1149,-27.5 957,-27.5\"/>\n<text text-anchor=\"middle\" x=\"969.5\" y=\"-41.8\" font-family=\"Times,serif\" font-size=\"14.00\">L</text>\n<polyline fill=\"none\" stroke=\"black\" points=\"982,-27.5 982,-63.5\"/>\n<text text-anchor=\"middle\" x=\"1024.5\" y=\"-41.8\" font-family=\"Times,serif\" font-size=\"14.00\">data &#45;8.0000</text>\n<polyline fill=\"none\" stroke=\"black\" points=\"1067,-27.5 1067,-63.5\"/>\n<text text-anchor=\"middle\" x=\"1108\" y=\"-41.8\" font-family=\"Times,serif\" font-size=\"14.00\">grad 1.0000</text>\n</g>\n<!-- 4557186736*&#45;&gt;4557186736 -->\n<g id=\"edge2\" class=\"edge\">\n<title>4557186736*&#45;&gt;4557186736</title>\n<path fill=\"none\" stroke=\"black\" d=\"M921.28,-45.5C928.52,-45.5 936.85,-45.5 945.72,-45.5\"/>\n<polygon fill=\"black\" stroke=\"black\" points=\"945.69,-49 955.69,-45.5 945.69,-42 945.69,-49\"/>\n</g>\n<!-- 4557184672 -->\n<g id=\"node6\" class=\"node\">\n<title>4557184672</title>\n<polygon fill=\"none\" stroke=\"black\" points=\"321,-28.5 321,-64.5 515,-64.5 515,-28.5 321,-28.5\"/>\n<text text-anchor=\"middle\" x=\"332.5\" y=\"-42.8\" font-family=\"Times,serif\" font-size=\"14.00\">e</text>\n<polyline fill=\"none\" stroke=\"black\" points=\"344,-28.5 344,-64.5\"/>\n<text text-anchor=\"middle\" x=\"386.5\" y=\"-42.8\" font-family=\"Times,serif\" font-size=\"14.00\">data &#45;6.0000</text>\n<polyline fill=\"none\" stroke=\"black\" points=\"429,-28.5 429,-64.5\"/>\n<text text-anchor=\"middle\" x=\"472\" y=\"-42.8\" font-family=\"Times,serif\" font-size=\"14.00\">grad &#45;2.0000</text>\n</g>\n<!-- 4557184672&#45;&gt;4557183136+ -->\n<g id=\"edge6\" class=\"edge\">\n<title>4557184672&#45;&gt;4557183136+</title>\n<path fill=\"none\" stroke=\"black\" d=\"M514.7,-62.75C523.98,-64.33 532.95,-65.85 541.08,-67.23\"/>\n<polygon fill=\"black\" stroke=\"black\" points=\"540.39,-70.66 550.84,-68.89 541.56,-63.76 540.39,-70.66\"/>\n</g>\n<!-- 4557184672* -->\n<g id=\"node7\" class=\"node\">\n<title>4557184672*</title>\n<ellipse fill=\"none\" stroke=\"black\" cx=\"257\" cy=\"-46.5\" rx=\"27\" ry=\"18\"/>\n<text text-anchor=\"middle\" x=\"257\" y=\"-42.8\" font-family=\"Times,serif\" font-size=\"14.00\">*</text>\n</g>\n<!-- 4557184672*&#45;&gt;4557184672 -->\n<g id=\"edge3\" class=\"edge\">\n<title>4557184672*&#45;&gt;4557184672</title>\n<path fill=\"none\" stroke=\"black\" d=\"M284.26,-46.5C291.86,-46.5 300.67,-46.5 310.07,-46.5\"/>\n<polygon fill=\"black\" stroke=\"black\" points=\"309.81,-50 319.81,-46.5 309.81,-43 309.81,-50\"/>\n</g>\n<!-- 4557187936 -->\n<g id=\"node8\" class=\"node\">\n<title>4557187936</title>\n<polygon fill=\"none\" stroke=\"black\" points=\"4.5,-56.5 4.5,-92.5 189.5,-92.5 189.5,-56.5 4.5,-56.5\"/>\n<text text-anchor=\"middle\" x=\"16\" y=\"-70.8\" font-family=\"Times,serif\" font-size=\"14.00\">a</text>\n<polyline fill=\"none\" stroke=\"black\" points=\"27.5,-56.5 27.5,-92.5\"/>\n<text text-anchor=\"middle\" x=\"67.5\" y=\"-70.8\" font-family=\"Times,serif\" font-size=\"14.00\">data 2.0000</text>\n<polyline fill=\"none\" stroke=\"black\" points=\"107.5,-56.5 107.5,-92.5\"/>\n<text text-anchor=\"middle\" x=\"148.5\" y=\"-70.8\" font-family=\"Times,serif\" font-size=\"14.00\">grad 6.0000</text>\n</g>\n<!-- 4557187936&#45;&gt;4557184672* -->\n<g id=\"edge5\" class=\"edge\">\n<title>4557187936&#45;&gt;4557184672*</title>\n<path fill=\"none\" stroke=\"black\" d=\"M189.45,-58.29C199.89,-56.44 210.03,-54.65 219.12,-53.04\"/>\n<polygon fill=\"black\" stroke=\"black\" points=\"219.68,-56.49 228.91,-51.3 218.46,-49.6 219.68,-56.49\"/>\n</g>\n<!-- 4557186928 -->\n<g id=\"node9\" class=\"node\">\n<title>4557186928</title>\n<polygon fill=\"none\" stroke=\"black\" points=\"0,-1.5 0,-37.5 194,-37.5 194,-1.5 0,-1.5\"/>\n<text text-anchor=\"middle\" x=\"11.5\" y=\"-15.8\" font-family=\"Times,serif\" font-size=\"14.00\">b</text>\n<polyline fill=\"none\" stroke=\"black\" points=\"23,-1.5 23,-37.5\"/>\n<text text-anchor=\"middle\" x=\"65.5\" y=\"-15.8\" font-family=\"Times,serif\" font-size=\"14.00\">data &#45;3.0000</text>\n<polyline fill=\"none\" stroke=\"black\" points=\"108,-1.5 108,-37.5\"/>\n<text text-anchor=\"middle\" x=\"151\" y=\"-15.8\" font-family=\"Times,serif\" font-size=\"14.00\">grad &#45;4.0000</text>\n</g>\n<!-- 4557186928&#45;&gt;4557184672* -->\n<g id=\"edge7\" class=\"edge\">\n<title>4557186928&#45;&gt;4557184672*</title>\n<path fill=\"none\" stroke=\"black\" d=\"M193.55,-35.83C202.53,-37.36 211.21,-38.85 219.1,-40.19\"/>\n<polygon fill=\"black\" stroke=\"black\" points=\"218.46,-43.63 228.9,-41.87 219.64,-36.73 218.46,-43.63\"/>\n</g>\n<!-- 4557186016 -->\n<g id=\"node10\" class=\"node\">\n<title>4557186016</title>\n<polygon fill=\"none\" stroke=\"black\" points=\"642.5,-0.5 642.5,-36.5 830.5,-36.5 830.5,-0.5 642.5,-0.5\"/>\n<text text-anchor=\"middle\" x=\"653\" y=\"-14.8\" font-family=\"Times,serif\" font-size=\"14.00\">f</text>\n<polyline fill=\"none\" stroke=\"black\" points=\"663.5,-0.5 663.5,-36.5\"/>\n<text text-anchor=\"middle\" x=\"706\" y=\"-14.8\" font-family=\"Times,serif\" font-size=\"14.00\">data &#45;2.0000</text>\n<polyline fill=\"none\" stroke=\"black\" points=\"748.5,-0.5 748.5,-36.5\"/>\n<text text-anchor=\"middle\" x=\"789.5\" y=\"-14.8\" font-family=\"Times,serif\" font-size=\"14.00\">grad 4.0000</text>\n</g>\n<!-- 4557186016&#45;&gt;4557186736* -->\n<g id=\"edge8\" class=\"edge\">\n<title>4557186016&#45;&gt;4557186736*</title>\n<path fill=\"none\" stroke=\"black\" d=\"M830.2,-34.6C839.38,-36.19 848.27,-37.73 856.33,-39.13\"/>\n<polygon fill=\"black\" stroke=\"black\" points=\"855.54,-42.55 865.99,-40.81 856.74,-35.65 855.54,-42.55\"/>\n</g>\n</g>\n</svg>\n",
      "text/plain": [
       "<graphviz.graphs.Digraph at 0x10f6f7490>"
      ]
     },
     "execution_count": 55,
     "metadata": {},
     "output_type": "execute_result"
    }
   ],
   "source": [
    "draw_dot(L)"
   ]
  },
  {
   "cell_type": "code",
   "execution_count": 54,
   "metadata": {},
   "outputs": [],
   "source": [
    "L.grad = 1.0 # because dL/dL = 1\n",
    "\n",
    "#*\n",
    "# d.grad = -2.0 # because L = d*f, dL/d(d) = f i.e.(f.data)\n",
    "d.grad = f.data\n",
    "# f.grad = 4.0 # because L = d*f, dL/df = d i.e.(d.data)\n",
    "f.grad = d.data\n",
    "# for * gradient is value of sibling child node\n",
    "\n",
    "#+\n",
    "# e.grad = -2.0 # because d = e+c, and by chain rule dL/de = dL/dd * dd/de = -2 * 1 = -2 ... d=e+c, hence dd/de = 1 \n",
    "e.grad = d.grad\n",
    "# c.grad = -2.0 # because d = e+c, and dL/dc = dL/dd * dd/dc = -2 * 1 = -2 ... d=e+c, hence dd/dc = 1\n",
    "c.grad = d.grad\n",
    "# for + gradients for both children are equal to parent\n",
    "\n",
    "#* in this case local gradient is value of sibling child node and gradient is local gradient * gradient of parent node, because of the chain rule\n",
    "# a.grad = -2.0 * -3.0\n",
    "a.grad = b.data * e.grad\n",
    "# b.grad = -2.0 * 2.0\n",
    "b.grad = a.data * e.grad\n"
   ]
  },
  {
   "cell_type": "code",
   "execution_count": 50,
   "metadata": {},
   "outputs": [
    {
     "name": "stdout",
     "output_type": "stream",
     "text": [
      "-3.9999999999995595\n"
     ]
    }
   ],
   "source": [
    "# to check grads of each node\n",
    "def lol():\n",
    "  \n",
    "  h = 0.001\n",
    "  \n",
    "  a = Value(2.0, label='a')\n",
    "  b = Value(-3.0, label='b')\n",
    "  c = Value(10.0, label='c')\n",
    "  e = a*b; e.label = 'e'\n",
    "  d = e + c; d.label = 'd'\n",
    "  f = Value(-2.0, label='f')\n",
    "  L = d * f; L.label = 'L'\n",
    "  L1 = L.data\n",
    "  \n",
    "  a = Value(2.0, label='a')\n",
    "  b = Value(-3.0, label='b')\n",
    "  b.data += h\n",
    "  c = Value(10.0, label='c')\n",
    "  e = a*b; e.label = 'e'\n",
    "  d = e + c; d.label = 'd'\n",
    "  f = Value(-2.0, label='f')\n",
    "  L = d * f; L.label = 'L'\n",
    "  L2 = L.data\n",
    "  \n",
    "  print((L2 - L1)/h)\n",
    "  \n",
    "lol()\n"
   ]
  },
  {
   "cell_type": "code",
   "execution_count": 51,
   "metadata": {},
   "outputs": [
    {
     "data": {
      "text/plain": [
       "-7.286496"
      ]
     },
     "execution_count": 51,
     "metadata": {},
     "output_type": "execute_result"
    }
   ],
   "source": [
    "# bumping leaf node values in the direction of their gradients\n",
    "\n",
    "a.data += a.grad * 0.01\n",
    "b.data += b.grad * 0.01\n",
    "c.data += c.grad * 0.01\n",
    "f.data += f.grad * 0.01\n",
    "\n",
    "e = a*b\n",
    "d = e + c\n",
    "L = d * f\n",
    "\n",
    "L.data # it has decreased due to influence of change (increase) in leaf node values"
   ]
  },
  {
   "cell_type": "code",
   "execution_count": 124,
   "metadata": {},
   "outputs": [],
   "source": [
    "# backpropogation of neuron\n",
    "# it is a linear combination of inputs with weights and then passed through an activation function\n",
    "# summition of inputs * weights + bias = n\n",
    "# activation function = sigmoid(n) or tanh(n) .. this is the output of the neuron\n",
    "\n",
    "# backpropogation is the process of calculating the gradients of the loss function with respect to the weights and biases of the neuron\n",
    "\n",
    "# inputs \n",
    "x1 = Value(2.0, label='x1')\n",
    "x2 = Value(0.0, label='x2')\n",
    "\n",
    "# weights\n",
    "w1 = Value(-3.0, label='w1')\n",
    "w2 = Value(1.0, label='w2')\n",
    "\n",
    "# bias of neuron\n",
    "b = Value(6.8813735870195432, label='b')\n",
    "\n",
    "# x1*w1 + x2*w2 + b = n\n",
    "x1w1 = x1*w1; x1w1.label = 'x1w1'\n",
    "x2w2 = x2*w2; x2w2.label = 'x2w2'\n",
    "x1w1x2w2 = x1w1 + x2w2; x1w1x2w2.label = 'x1w1x2w2'\n",
    "n = x1w1x2w2 + b; n.label = 'n'\n",
    "o = n.tanh(); o.label = 'o'\n",
    "\n"
   ]
  },
  {
   "cell_type": "code",
   "execution_count": 105,
   "metadata": {},
   "outputs": [],
   "source": [
    "o.grad = 1.0\n",
    "o._backward()\n",
    "n._backward()\n",
    "b._backward() # bias is a leaf node, so it has no _prev, hence no _backward, i.e. nothing will happen\n",
    "x1w1x2w2._backward()\n",
    "x1w1._backward()\n",
    "x2w2._backward()\n",
    "\n"
   ]
  },
  {
   "cell_type": "code",
   "execution_count": 110,
   "metadata": {},
   "outputs": [],
   "source": [
    "# to apply _backward to all nodes in the graph\n",
    "# we are taking topological sort of the graph and then applying _backward to all nodes in the graph in reverse order\n",
    "# topological sort is a linear ordering of the nodes in a graph such that for every directed edge uv from node u to node v, u comes before v in the ordering, left to right in the graph\n",
    "\n",
    "o.grad = 1.0\n",
    "topo = []\n",
    "visited = set()\n",
    "def build_topo(v):\n",
    "  if v in visited:\n",
    "    return\n",
    "  visited.add(v)\n",
    "  for child in v._prev:\n",
    "    build_topo(child)\n",
    "  topo.append(v)\n",
    "\n",
    "build_topo(o)\n",
    "\n",
    "for node in reversed(topo):\n",
    "  node._backward()\n"
   ]
  },
  {
   "cell_type": "code",
   "execution_count": 125,
   "metadata": {},
   "outputs": [],
   "source": [
    "o.backward() # this is the same as above, but it is a method of Value class"
   ]
  },
  {
   "cell_type": "code",
   "execution_count": 126,
   "metadata": {},
   "outputs": [
    {
     "data": {
      "image/svg+xml": "<?xml version=\"1.0\" encoding=\"UTF-8\" standalone=\"no\"?>\n<!DOCTYPE svg PUBLIC \"-//W3C//DTD SVG 1.1//EN\"\n \"http://www.w3.org/Graphics/SVG/1.1/DTD/svg11.dtd\">\n<!-- Generated by graphviz version 7.1.0 (20230121.1956)\n -->\n<!-- Pages: 1 -->\n<svg width=\"1540pt\" height=\"210pt\"\n viewBox=\"0.00 0.00 1540.00 210.00\" xmlns=\"http://www.w3.org/2000/svg\" xmlns:xlink=\"http://www.w3.org/1999/xlink\">\n<g id=\"graph0\" class=\"graph\" transform=\"scale(1 1) rotate(0) translate(4 206)\">\n<polygon fill=\"white\" stroke=\"none\" points=\"-4,4 -4,-206 1536,-206 1536,4 -4,4\"/>\n<!-- 4558667440 -->\n<g id=\"node1\" class=\"node\">\n<title>4558667440</title>\n<polygon fill=\"none\" stroke=\"black\" points=\"326,-55.5 326,-91.5 540,-91.5 540,-55.5 326,-55.5\"/>\n<text text-anchor=\"middle\" x=\"349.5\" y=\"-69.8\" font-family=\"Times,serif\" font-size=\"14.00\">x1w1</text>\n<polyline fill=\"none\" stroke=\"black\" points=\"373,-55.5 373,-91.5\"/>\n<text text-anchor=\"middle\" x=\"415.5\" y=\"-69.8\" font-family=\"Times,serif\" font-size=\"14.00\">data &#45;6.0000</text>\n<polyline fill=\"none\" stroke=\"black\" points=\"458,-55.5 458,-91.5\"/>\n<text text-anchor=\"middle\" x=\"499\" y=\"-69.8\" font-family=\"Times,serif\" font-size=\"14.00\">grad 0.5000</text>\n</g>\n<!-- 4558651600+ -->\n<g id=\"node5\" class=\"node\">\n<title>4558651600+</title>\n<ellipse fill=\"none\" stroke=\"black\" cx=\"603\" cy=\"-100.5\" rx=\"27\" ry=\"18\"/>\n<text text-anchor=\"middle\" x=\"603\" y=\"-96.8\" font-family=\"Times,serif\" font-size=\"14.00\">+</text>\n</g>\n<!-- 4558667440&#45;&gt;4558651600+ -->\n<g id=\"edge14\" class=\"edge\">\n<title>4558667440&#45;&gt;4558651600+</title>\n<path fill=\"none\" stroke=\"black\" d=\"M539.92,-90.52C548.88,-91.96 557.49,-93.35 565.29,-94.6\"/>\n<polygon fill=\"black\" stroke=\"black\" points=\"564.52,-98.02 574.95,-96.15 565.63,-91.11 564.52,-98.02\"/>\n</g>\n<!-- 4558667440* -->\n<g id=\"node2\" class=\"node\">\n<title>4558667440*</title>\n<ellipse fill=\"none\" stroke=\"black\" cx=\"263\" cy=\"-73.5\" rx=\"27\" ry=\"18\"/>\n<text text-anchor=\"middle\" x=\"263\" y=\"-69.8\" font-family=\"Times,serif\" font-size=\"14.00\">*</text>\n</g>\n<!-- 4558667440*&#45;&gt;4558667440 -->\n<g id=\"edge1\" class=\"edge\">\n<title>4558667440*&#45;&gt;4558667440</title>\n<path fill=\"none\" stroke=\"black\" d=\"M290.25,-73.5C297.53,-73.5 305.94,-73.5 314.95,-73.5\"/>\n<polygon fill=\"black\" stroke=\"black\" points=\"314.69,-77 324.69,-73.5 314.69,-70 314.69,-77\"/>\n</g>\n<!-- 4558663360 -->\n<g id=\"node3\" class=\"node\">\n<title>4558663360</title>\n<polygon fill=\"none\" stroke=\"black\" points=\"4,-165.5 4,-201.5 196,-201.5 196,-165.5 4,-165.5\"/>\n<text text-anchor=\"middle\" x=\"19\" y=\"-179.8\" font-family=\"Times,serif\" font-size=\"14.00\">x2</text>\n<polyline fill=\"none\" stroke=\"black\" points=\"34,-165.5 34,-201.5\"/>\n<text text-anchor=\"middle\" x=\"74\" y=\"-179.8\" font-family=\"Times,serif\" font-size=\"14.00\">data 0.0000</text>\n<polyline fill=\"none\" stroke=\"black\" points=\"114,-165.5 114,-201.5\"/>\n<text text-anchor=\"middle\" x=\"155\" y=\"-179.8\" font-family=\"Times,serif\" font-size=\"14.00\">grad 0.5000</text>\n</g>\n<!-- 4558653232* -->\n<g id=\"node10\" class=\"node\">\n<title>4558653232*</title>\n<ellipse fill=\"none\" stroke=\"black\" cx=\"263\" cy=\"-128.5\" rx=\"27\" ry=\"18\"/>\n<text text-anchor=\"middle\" x=\"263\" y=\"-124.8\" font-family=\"Times,serif\" font-size=\"14.00\">*</text>\n</g>\n<!-- 4558663360&#45;&gt;4558653232* -->\n<g id=\"edge10\" class=\"edge\">\n<title>4558663360&#45;&gt;4558653232*</title>\n<path fill=\"none\" stroke=\"black\" d=\"M172.27,-165.52C181.67,-162.72 191.12,-159.7 200,-156.5 210.09,-152.87 220.83,-148.29 230.48,-143.89\"/>\n<polygon fill=\"black\" stroke=\"black\" points=\"231.87,-147.11 239.45,-139.71 228.91,-140.76 231.87,-147.11\"/>\n</g>\n<!-- 4558651600 -->\n<g id=\"node4\" class=\"node\">\n<title>4558651600</title>\n<polygon fill=\"none\" stroke=\"black\" points=\"666,-82.5 666,-118.5 910,-118.5 910,-82.5 666,-82.5\"/>\n<text text-anchor=\"middle\" x=\"704.5\" y=\"-96.8\" font-family=\"Times,serif\" font-size=\"14.00\">x1w1x2w2</text>\n<polyline fill=\"none\" stroke=\"black\" points=\"743,-82.5 743,-118.5\"/>\n<text text-anchor=\"middle\" x=\"785.5\" y=\"-96.8\" font-family=\"Times,serif\" font-size=\"14.00\">data &#45;6.0000</text>\n<polyline fill=\"none\" stroke=\"black\" points=\"828,-82.5 828,-118.5\"/>\n<text text-anchor=\"middle\" x=\"869\" y=\"-96.8\" font-family=\"Times,serif\" font-size=\"14.00\">grad 0.5000</text>\n</g>\n<!-- 4558656304+ -->\n<g id=\"node8\" class=\"node\">\n<title>4558656304+</title>\n<ellipse fill=\"none\" stroke=\"black\" cx=\"973\" cy=\"-127.5\" rx=\"27\" ry=\"18\"/>\n<text text-anchor=\"middle\" x=\"973\" y=\"-123.8\" font-family=\"Times,serif\" font-size=\"14.00\">+</text>\n</g>\n<!-- 4558651600&#45;&gt;4558656304+ -->\n<g id=\"edge9\" class=\"edge\">\n<title>4558651600&#45;&gt;4558656304+</title>\n<path fill=\"none\" stroke=\"black\" d=\"M909.79,-118.32C918.72,-119.64 927.23,-120.89 934.93,-122.03\"/>\n<polygon fill=\"black\" stroke=\"black\" points=\"934.42,-125.49 944.82,-123.49 935.44,-118.57 934.42,-125.49\"/>\n</g>\n<!-- 4558651600+&#45;&gt;4558651600 -->\n<g id=\"edge2\" class=\"edge\">\n<title>4558651600+&#45;&gt;4558651600</title>\n<path fill=\"none\" stroke=\"black\" d=\"M630.22,-100.5C637.46,-100.5 645.83,-100.5 654.87,-100.5\"/>\n<polygon fill=\"black\" stroke=\"black\" points=\"654.68,-104 664.68,-100.5 654.68,-97 654.68,-104\"/>\n</g>\n<!-- 4558659808 -->\n<g id=\"node6\" class=\"node\">\n<title>4558659808</title>\n<polygon fill=\"none\" stroke=\"black\" points=\"2.5,-110.5 2.5,-146.5 197.5,-146.5 197.5,-110.5 2.5,-110.5\"/>\n<text text-anchor=\"middle\" x=\"19\" y=\"-124.8\" font-family=\"Times,serif\" font-size=\"14.00\">w2</text>\n<polyline fill=\"none\" stroke=\"black\" points=\"35.5,-110.5 35.5,-146.5\"/>\n<text text-anchor=\"middle\" x=\"75.5\" y=\"-124.8\" font-family=\"Times,serif\" font-size=\"14.00\">data 1.0000</text>\n<polyline fill=\"none\" stroke=\"black\" points=\"115.5,-110.5 115.5,-146.5\"/>\n<text text-anchor=\"middle\" x=\"156.5\" y=\"-124.8\" font-family=\"Times,serif\" font-size=\"14.00\">grad 0.0000</text>\n</g>\n<!-- 4558659808&#45;&gt;4558653232* -->\n<g id=\"edge12\" class=\"edge\">\n<title>4558659808&#45;&gt;4558653232*</title>\n<path fill=\"none\" stroke=\"black\" d=\"M197.44,-128.5C206.89,-128.5 216.04,-128.5 224.32,-128.5\"/>\n<polygon fill=\"black\" stroke=\"black\" points=\"224.28,-132 234.28,-128.5 224.28,-125 224.28,-132\"/>\n</g>\n<!-- 4558656304 -->\n<g id=\"node7\" class=\"node\">\n<title>4558656304</title>\n<polygon fill=\"none\" stroke=\"black\" points=\"1036,-109.5 1036,-145.5 1221,-145.5 1221,-109.5 1036,-109.5\"/>\n<text text-anchor=\"middle\" x=\"1047.5\" y=\"-123.8\" font-family=\"Times,serif\" font-size=\"14.00\">n</text>\n<polyline fill=\"none\" stroke=\"black\" points=\"1059,-109.5 1059,-145.5\"/>\n<text text-anchor=\"middle\" x=\"1099\" y=\"-123.8\" font-family=\"Times,serif\" font-size=\"14.00\">data 0.8814</text>\n<polyline fill=\"none\" stroke=\"black\" points=\"1139,-109.5 1139,-145.5\"/>\n<text text-anchor=\"middle\" x=\"1180\" y=\"-123.8\" font-family=\"Times,serif\" font-size=\"14.00\">grad 0.5000</text>\n</g>\n<!-- 4558656448tanh -->\n<g id=\"node12\" class=\"node\">\n<title>4558656448tanh</title>\n<ellipse fill=\"none\" stroke=\"black\" cx=\"1284\" cy=\"-127.5\" rx=\"27\" ry=\"18\"/>\n<text text-anchor=\"middle\" x=\"1284\" y=\"-123.8\" font-family=\"Times,serif\" font-size=\"14.00\">tanh</text>\n</g>\n<!-- 4558656304&#45;&gt;4558656448tanh -->\n<g id=\"edge6\" class=\"edge\">\n<title>4558656304&#45;&gt;4558656448tanh</title>\n<path fill=\"none\" stroke=\"black\" d=\"M1220.57,-127.5C1229.21,-127.5 1237.6,-127.5 1245.28,-127.5\"/>\n<polygon fill=\"black\" stroke=\"black\" points=\"1245.19,-131 1255.19,-127.5 1245.19,-124 1245.19,-131\"/>\n</g>\n<!-- 4558656304+&#45;&gt;4558656304 -->\n<g id=\"edge3\" class=\"edge\">\n<title>4558656304+&#45;&gt;4558656304</title>\n<path fill=\"none\" stroke=\"black\" d=\"M1000.39,-127.5C1007.62,-127.5 1015.92,-127.5 1024.74,-127.5\"/>\n<polygon fill=\"black\" stroke=\"black\" points=\"1024.64,-131 1034.64,-127.5 1024.64,-124 1024.64,-131\"/>\n</g>\n<!-- 4558653232 -->\n<g id=\"node9\" class=\"node\">\n<title>4558653232</title>\n<polygon fill=\"none\" stroke=\"black\" points=\"328.5,-110.5 328.5,-146.5 537.5,-146.5 537.5,-110.5 328.5,-110.5\"/>\n<text text-anchor=\"middle\" x=\"352\" y=\"-124.8\" font-family=\"Times,serif\" font-size=\"14.00\">x2w2</text>\n<polyline fill=\"none\" stroke=\"black\" points=\"375.5,-110.5 375.5,-146.5\"/>\n<text text-anchor=\"middle\" x=\"415.5\" y=\"-124.8\" font-family=\"Times,serif\" font-size=\"14.00\">data 0.0000</text>\n<polyline fill=\"none\" stroke=\"black\" points=\"455.5,-110.5 455.5,-146.5\"/>\n<text text-anchor=\"middle\" x=\"496.5\" y=\"-124.8\" font-family=\"Times,serif\" font-size=\"14.00\">grad 0.5000</text>\n</g>\n<!-- 4558653232&#45;&gt;4558651600+ -->\n<g id=\"edge7\" class=\"edge\">\n<title>4558653232&#45;&gt;4558651600+</title>\n<path fill=\"none\" stroke=\"black\" d=\"M537.05,-111.33C547.04,-109.66 556.65,-108.06 565.28,-106.62\"/>\n<polygon fill=\"black\" stroke=\"black\" points=\"565.59,-110.12 574.88,-105.02 564.44,-103.21 565.59,-110.12\"/>\n</g>\n<!-- 4558653232*&#45;&gt;4558653232 -->\n<g id=\"edge4\" class=\"edge\">\n<title>4558653232*&#45;&gt;4558653232</title>\n<path fill=\"none\" stroke=\"black\" d=\"M290.25,-128.5C298.16,-128.5 307.4,-128.5 317.3,-128.5\"/>\n<polygon fill=\"black\" stroke=\"black\" points=\"317.2,-132 327.2,-128.5 317.2,-125 317.2,-132\"/>\n</g>\n<!-- 4558656448 -->\n<g id=\"node11\" class=\"node\">\n<title>4558656448</title>\n<polygon fill=\"none\" stroke=\"black\" points=\"1347,-109.5 1347,-145.5 1532,-145.5 1532,-109.5 1347,-109.5\"/>\n<text text-anchor=\"middle\" x=\"1358.5\" y=\"-123.8\" font-family=\"Times,serif\" font-size=\"14.00\">o</text>\n<polyline fill=\"none\" stroke=\"black\" points=\"1370,-109.5 1370,-145.5\"/>\n<text text-anchor=\"middle\" x=\"1410\" y=\"-123.8\" font-family=\"Times,serif\" font-size=\"14.00\">data 0.7071</text>\n<polyline fill=\"none\" stroke=\"black\" points=\"1450,-109.5 1450,-145.5\"/>\n<text text-anchor=\"middle\" x=\"1491\" y=\"-123.8\" font-family=\"Times,serif\" font-size=\"14.00\">grad 1.0000</text>\n</g>\n<!-- 4558656448tanh&#45;&gt;4558656448 -->\n<g id=\"edge5\" class=\"edge\">\n<title>4558656448tanh&#45;&gt;4558656448</title>\n<path fill=\"none\" stroke=\"black\" d=\"M1311.39,-127.5C1318.62,-127.5 1326.92,-127.5 1335.74,-127.5\"/>\n<polygon fill=\"black\" stroke=\"black\" points=\"1335.64,-131 1345.64,-127.5 1335.64,-124 1335.64,-131\"/>\n</g>\n<!-- 4558655872 -->\n<g id=\"node13\" class=\"node\">\n<title>4558655872</title>\n<polygon fill=\"none\" stroke=\"black\" points=\"0,-55.5 0,-91.5 200,-91.5 200,-55.5 0,-55.5\"/>\n<text text-anchor=\"middle\" x=\"16.5\" y=\"-69.8\" font-family=\"Times,serif\" font-size=\"14.00\">w1</text>\n<polyline fill=\"none\" stroke=\"black\" points=\"33,-55.5 33,-91.5\"/>\n<text text-anchor=\"middle\" x=\"75.5\" y=\"-69.8\" font-family=\"Times,serif\" font-size=\"14.00\">data &#45;3.0000</text>\n<polyline fill=\"none\" stroke=\"black\" points=\"118,-55.5 118,-91.5\"/>\n<text text-anchor=\"middle\" x=\"159\" y=\"-69.8\" font-family=\"Times,serif\" font-size=\"14.00\">grad 1.0000</text>\n</g>\n<!-- 4558655872&#45;&gt;4558667440* -->\n<g id=\"edge11\" class=\"edge\">\n<title>4558655872&#45;&gt;4558667440*</title>\n<path fill=\"none\" stroke=\"black\" d=\"M199.75,-73.5C208.38,-73.5 216.71,-73.5 224.33,-73.5\"/>\n<polygon fill=\"black\" stroke=\"black\" points=\"224.12,-77 234.12,-73.5 224.12,-70 224.12,-77\"/>\n</g>\n<!-- 4558667152 -->\n<g id=\"node14\" class=\"node\">\n<title>4558667152</title>\n<polygon fill=\"none\" stroke=\"black\" points=\"2,-0.5 2,-36.5 198,-36.5 198,-0.5 2,-0.5\"/>\n<text text-anchor=\"middle\" x=\"17\" y=\"-14.8\" font-family=\"Times,serif\" font-size=\"14.00\">x1</text>\n<polyline fill=\"none\" stroke=\"black\" points=\"32,-0.5 32,-36.5\"/>\n<text text-anchor=\"middle\" x=\"72\" y=\"-14.8\" font-family=\"Times,serif\" font-size=\"14.00\">data 2.0000</text>\n<polyline fill=\"none\" stroke=\"black\" points=\"112,-0.5 112,-36.5\"/>\n<text text-anchor=\"middle\" x=\"155\" y=\"-14.8\" font-family=\"Times,serif\" font-size=\"14.00\">grad &#45;1.5000</text>\n</g>\n<!-- 4558667152&#45;&gt;4558667440* -->\n<g id=\"edge8\" class=\"edge\">\n<title>4558667152&#45;&gt;4558667440*</title>\n<path fill=\"none\" stroke=\"black\" d=\"M169.02,-36.42C179.47,-39.56 190.08,-42.95 200,-46.5 209.96,-50.06 220.59,-54.46 230.18,-58.66\"/>\n<polygon fill=\"black\" stroke=\"black\" points=\"228.54,-61.76 239.1,-62.66 231.4,-55.37 228.54,-61.76\"/>\n</g>\n<!-- 4558662592 -->\n<g id=\"node15\" class=\"node\">\n<title>4558662592</title>\n<polygon fill=\"none\" stroke=\"black\" points=\"695.5,-137.5 695.5,-173.5 880.5,-173.5 880.5,-137.5 695.5,-137.5\"/>\n<text text-anchor=\"middle\" x=\"707\" y=\"-151.8\" font-family=\"Times,serif\" font-size=\"14.00\">b</text>\n<polyline fill=\"none\" stroke=\"black\" points=\"718.5,-137.5 718.5,-173.5\"/>\n<text text-anchor=\"middle\" x=\"758.5\" y=\"-151.8\" font-family=\"Times,serif\" font-size=\"14.00\">data 6.8814</text>\n<polyline fill=\"none\" stroke=\"black\" points=\"798.5,-137.5 798.5,-173.5\"/>\n<text text-anchor=\"middle\" x=\"839.5\" y=\"-151.8\" font-family=\"Times,serif\" font-size=\"14.00\">grad 0.5000</text>\n</g>\n<!-- 4558662592&#45;&gt;4558656304+ -->\n<g id=\"edge13\" class=\"edge\">\n<title>4558662592&#45;&gt;4558656304+</title>\n<path fill=\"none\" stroke=\"black\" d=\"M880.5,-141.5C899.91,-138.53 919.33,-135.56 935.25,-133.12\"/>\n<polygon fill=\"black\" stroke=\"black\" points=\"935.32,-136.65 944.67,-131.68 934.26,-129.73 935.32,-136.65\"/>\n</g>\n</g>\n</svg>\n",
      "text/plain": [
       "<graphviz.graphs.Digraph at 0x10fb79390>"
      ]
     },
     "execution_count": 126,
     "metadata": {},
     "output_type": "execute_result"
    }
   ],
   "source": [
    "draw_dot(o)"
   ]
  },
  {
   "cell_type": "code",
   "execution_count": 84,
   "metadata": {},
   "outputs": [],
   "source": [
    "# manual backpropogation\n",
    "\n",
    "o.grad = 1.0\n",
    "\n",
    "# tanh\n",
    "n.grad = 0.5 \n",
    "# n.grad = 1 - o.data**2      # 0.4999999\n",
    "# as o = tanh(n) \n",
    "# and by the formula of tanh derivative\n",
    "#  do/dn = 1 - tanh(n)^2\n",
    "#  i.e. do/dn = 1 - o**2\n",
    "\n",
    "# +\n",
    "b.grad = 0.5\n",
    "x1w1x2w2.grad = 0.5\n",
    "\n",
    "# +\n",
    "x1w1.grad = 0.5\n",
    "x2w2.grad = 0.5\n",
    "\n",
    "# *\n",
    "x2.grad = w2.data * x2w2.grad\n",
    "w2.grad = x2.data * x2w2.grad\n",
    "\n",
    "# *\n",
    "x1.grad = w1.data * x1w1.grad\n",
    "w1.grad = x1.data * x1w1.grad\n"
   ]
  },
  {
   "cell_type": "code",
   "execution_count": null,
   "metadata": {},
   "outputs": [],
   "source": []
  }
 ],
 "metadata": {
  "kernelspec": {
   "display_name": "Python 3",
   "language": "python",
   "name": "python3"
  },
  "language_info": {
   "codemirror_mode": {
    "name": "ipython",
    "version": 3
   },
   "file_extension": ".py",
   "mimetype": "text/x-python",
   "name": "python",
   "nbconvert_exporter": "python",
   "pygments_lexer": "ipython3",
   "version": "3.10.9"
  },
  "vscode": {
   "interpreter": {
    "hash": "b0fa6594d8f4cbf19f97940f81e996739fb7646882a419484c72d19e05852a7e"
   }
  }
 },
 "nbformat": 4,
 "nbformat_minor": 2
}
